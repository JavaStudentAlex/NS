{
 "cells": [
  {
   "cell_type": "code",
   "execution_count": 1,
   "metadata": {},
   "outputs": [
    {
     "data": {
      "text/html": [
       "\n",
       "    <script charset=\"utf-8\">\n",
       "    // Load via requireJS if available (jupyter notebook environment)\n",
       "    try {\n",
       "    require.config({\n",
       "    paths: {\n",
       "    d3: \"https://d3js.org/d3.v5.min.js\".replace(\".js\", \"\")\n",
       "    }\n",
       "    });\n",
       "    console.log(\"OKAY: requireJS was detected\");\n",
       "    }\n",
       "    catch(err){\n",
       "    console.log(err);\n",
       "    console.log(\"ERROR: NO requireJS was detected\");\n",
       "    };\n",
       "    require(['d3'], function(d3){\n",
       "    console.log(\"OKAY: d3js was detected\");\n",
       "    });\n",
       "    </script>\n",
       "    "
      ],
      "text/plain": [
       "<IPython.core.display.HTML object>"
      ]
     },
     "metadata": {},
     "output_type": "display_data"
    }
   ],
   "source": [
    "from functools import partial\n",
    "from multiprocessing import Pool\n",
    "\n",
    "import numpy as np\n",
    "import scipy as sp\n",
    "import pathpy as pp\n",
    "from tqdm import tqdm"
   ]
  },
  {
   "cell_type": "markdown",
   "metadata": {},
   "source": [
    "### Microstates from ensembles"
   ]
  },
  {
   "cell_type": "code",
   "execution_count": 2,
   "metadata": {},
   "outputs": [],
   "source": [
    "n = 30"
   ]
  },
  {
   "cell_type": "markdown",
   "metadata": {},
   "source": [
    "We have chosen the [Pathpy3](https://github.com/pathpy/pathpy) package because of the broad list of model ansembles and methods to calculate mean degree and neighbour mean degree. Let's get into the code - this piece of code generate a random network $G(n=50, p=0.1)$ from the $G_{np}$ ensemble and calculate the mean degree and the mean neighbour degree."
   ]
  },
  {
   "cell_type": "code",
   "execution_count": 3,
   "metadata": {},
   "outputs": [
    {
     "name": "stdout",
     "output_type": "stream",
     "text": [
      "<k>: 2.8333333333333335\n",
      "<k_n>: 3.3529411764705883\n",
      "<k_n> - <k>: 0.5196078431372548\n"
     ]
    }
   ],
   "source": [
    "network = pp.generators.ER_np(n, 0.1, directed=False, loops=True)\n",
    "print(f\"<k>: {network.mean_degree()}\")\n",
    "print(f\"<k_n>: {network.mean_neighbor_degree()}\")\n",
    "print(f\"<k_n> - <k>: {network.mean_neighbor_degree() - network.mean_degree()}\")"
   ]
  },
  {
   "cell_type": "markdown",
   "metadata": {},
   "source": [
    "We will generate generate for 10 networks per ensemble with some params and calculate mean difference between mean neighbour degrees and mean degrees. First the list of all $G_{np}$ models."
   ]
  },
  {
   "cell_type": "code",
   "execution_count": 4,
   "metadata": {},
   "outputs": [
    {
     "data": {
      "text/plain": [
       "[functools.partial(<function ER_np at 0x7f8811dfdfc0>, n=30, p=0.4, directed=False, loops=True),\n",
       " functools.partial(<function ER_np at 0x7f8811dfdfc0>, n=30, p=0.4555555555555556, directed=False, loops=True),\n",
       " functools.partial(<function ER_np at 0x7f8811dfdfc0>, n=30, p=0.5111111111111111, directed=False, loops=True),\n",
       " functools.partial(<function ER_np at 0x7f8811dfdfc0>, n=30, p=0.5666666666666667, directed=False, loops=True),\n",
       " functools.partial(<function ER_np at 0x7f8811dfdfc0>, n=30, p=0.6222222222222222, directed=False, loops=True),\n",
       " functools.partial(<function ER_np at 0x7f8811dfdfc0>, n=30, p=0.6777777777777778, directed=False, loops=True),\n",
       " functools.partial(<function ER_np at 0x7f8811dfdfc0>, n=30, p=0.7333333333333334, directed=False, loops=True),\n",
       " functools.partial(<function ER_np at 0x7f8811dfdfc0>, n=30, p=0.7888888888888889, directed=False, loops=True),\n",
       " functools.partial(<function ER_np at 0x7f8811dfdfc0>, n=30, p=0.8444444444444444, directed=False, loops=True),\n",
       " functools.partial(<function ER_np at 0x7f8811dfdfc0>, n=30, p=0.9, directed=False, loops=True)]"
      ]
     },
     "execution_count": 4,
     "metadata": {},
     "output_type": "execute_result"
    }
   ],
   "source": [
    "gnps = [\n",
    "    partial(pp.generators.ER_np, n=n, p=p, directed=False, loops=True)\n",
    "    for p in np.linspace(0.4, 0.9, 10)\n",
    "]\n",
    "gnps"
   ]
  },
  {
   "cell_type": "markdown",
   "metadata": {},
   "source": [
    "Then the $G_{nm}$ ensemble."
   ]
  },
  {
   "cell_type": "code",
   "execution_count": 5,
   "metadata": {},
   "outputs": [
    {
     "data": {
      "text/plain": [
       "[functools.partial(<function ER_nm at 0x7f8811dfdea0>, n=30, m=60, directed=False, loops=True, multiedges=False),\n",
       " functools.partial(<function ER_nm at 0x7f8811dfdea0>, n=30, m=102, directed=False, loops=True, multiedges=False),\n",
       " functools.partial(<function ER_nm at 0x7f8811dfdea0>, n=30, m=144, directed=False, loops=True, multiedges=False),\n",
       " functools.partial(<function ER_nm at 0x7f8811dfdea0>, n=30, m=186, directed=False, loops=True, multiedges=False),\n",
       " functools.partial(<function ER_nm at 0x7f8811dfdea0>, n=30, m=228, directed=False, loops=True, multiedges=False),\n",
       " functools.partial(<function ER_nm at 0x7f8811dfdea0>, n=30, m=271, directed=False, loops=True, multiedges=False),\n",
       " functools.partial(<function ER_nm at 0x7f8811dfdea0>, n=30, m=313, directed=False, loops=True, multiedges=False),\n",
       " functools.partial(<function ER_nm at 0x7f8811dfdea0>, n=30, m=355, directed=False, loops=True, multiedges=False),\n",
       " functools.partial(<function ER_nm at 0x7f8811dfdea0>, n=30, m=397, directed=False, loops=True, multiedges=False),\n",
       " functools.partial(<function ER_nm at 0x7f8811dfdea0>, n=30, m=440, directed=False, loops=True, multiedges=False)]"
      ]
     },
     "execution_count": 5,
     "metadata": {},
     "output_type": "execute_result"
    }
   ],
   "source": [
    "gnms = [\n",
    "    partial(pp.generators.ER_nm, n=n, m=m, directed=False, loops=True, multiedges=False)\n",
    "    for m in np.linspace(2 * n, pow(n, 2) / 2 - 10, 10, dtype=int)\n",
    "]\n",
    "gnms"
   ]
  },
  {
   "cell_type": "markdown",
   "metadata": {},
   "source": [
    "Here is the Watts Strogatz models"
   ]
  },
  {
   "cell_type": "code",
   "execution_count": 6,
   "metadata": {},
   "outputs": [
    {
     "data": {
      "text/plain": [
       "[functools.partial(<function Watts_Strogatz at 0x7f8811dfe0e0>, n=30, s=5, p=0.3, loops=True),\n",
       " functools.partial(<function Watts_Strogatz at 0x7f8811dfe0e0>, n=30, s=5, p=0.3555555555555555, loops=True),\n",
       " functools.partial(<function Watts_Strogatz at 0x7f8811dfe0e0>, n=30, s=5, p=0.4111111111111111, loops=True),\n",
       " functools.partial(<function Watts_Strogatz at 0x7f8811dfe0e0>, n=30, s=5, p=0.4666666666666667, loops=True),\n",
       " functools.partial(<function Watts_Strogatz at 0x7f8811dfe0e0>, n=30, s=5, p=0.5222222222222221, loops=True),\n",
       " functools.partial(<function Watts_Strogatz at 0x7f8811dfe0e0>, n=30, s=5, p=0.5777777777777777, loops=True),\n",
       " functools.partial(<function Watts_Strogatz at 0x7f8811dfe0e0>, n=30, s=5, p=0.6333333333333333, loops=True),\n",
       " functools.partial(<function Watts_Strogatz at 0x7f8811dfe0e0>, n=30, s=5, p=0.6888888888888889, loops=True),\n",
       " functools.partial(<function Watts_Strogatz at 0x7f8811dfe0e0>, n=30, s=5, p=0.7444444444444445, loops=True),\n",
       " functools.partial(<function Watts_Strogatz at 0x7f8811dfe0e0>, n=30, s=5, p=0.8, loops=True)]"
      ]
     },
     "execution_count": 6,
     "metadata": {},
     "output_type": "execute_result"
    }
   ],
   "source": [
    "wattz_strogatzs = [\n",
    "    partial(pp.generators.Watts_Strogatz, n=n, s=5, p=p, loops=True)\n",
    "    for p in np.linspace(0.3, 0.8, 10)\n",
    "]\n",
    "wattz_strogatzs"
   ]
  },
  {
   "cell_type": "markdown",
   "metadata": {},
   "source": [
    "Here will be scale-free networks. They will be quite heterogenious."
   ]
  },
  {
   "cell_type": "code",
   "execution_count": 7,
   "metadata": {},
   "outputs": [
    {
     "name": "stderr",
     "output_type": "stream",
     "text": [
      "100%|██████████| 10/10 [00:00<00:00, 2979.97it/s]\n"
     ]
    },
    {
     "data": {
      "text/plain": [
       "[functools.partial(<function Molloy_Reed at 0x7f8811dfe290>, degrees=array([ 1,  4,  1,  2,  1,  1,  1,  1,  1,  1,  1,  2,  1,  1,  1,  6,  1,\n",
       "         1,  1,  1,  1, 20,  2,  1,  1,  1,  1,  1,  2,  2])),\n",
       " functools.partial(<function Molloy_Reed at 0x7f8811dfe290>, degrees=array([1, 1, 2, 1, 1, 1, 6, 1, 1, 1, 1, 1, 2, 1, 1, 1, 1, 1, 1, 2, 2, 2,\n",
       "        1, 1, 1, 1, 1, 3, 1, 1])),\n",
       " functools.partial(<function Molloy_Reed at 0x7f8811dfe290>, degrees=array([ 1,  6,  1,  1,  1,  2,  1,  1,  1,  1,  1,  1, 14,  2,  1,  1,  1,\n",
       "         1,  1,  2,  2,  1,  1,  1,  1,  1,  2,  4,  7,  1])),\n",
       " functools.partial(<function Molloy_Reed at 0x7f8811dfe290>, degrees=array([2, 1, 1, 3, 2, 1, 1, 1, 1, 2, 1, 2, 1, 1, 2, 1, 3, 3, 1, 1, 1, 1,\n",
       "        1, 1, 3, 1, 1, 2, 1, 1])),\n",
       " functools.partial(<function Molloy_Reed at 0x7f8811dfe290>, degrees=array([ 1,  1,  4,  1,  1,  1,  3,  1,  1,  1,  1,  1,  1,  1,  1,  7,  1,\n",
       "         1, 11,  2,  1,  1,  1,  1,  1,  1,  3,  1,  1,  1])),\n",
       " functools.partial(<function Molloy_Reed at 0x7f8811dfe290>, degrees=array([1, 2, 1, 1, 1, 1, 1, 1, 1, 1, 1, 1, 1, 2, 1, 2, 1, 1, 1, 1, 1, 1,\n",
       "        2, 1, 2, 2, 1, 1, 1, 1])),\n",
       " functools.partial(<function Molloy_Reed at 0x7f8811dfe290>, degrees=array([1, 1, 1, 1, 1, 1, 2, 3, 3, 1, 1, 1, 1, 2, 1, 3, 1, 1, 3, 1, 1, 1,\n",
       "        1, 1, 3, 1, 1, 1, 1, 1])),\n",
       " functools.partial(<function Molloy_Reed at 0x7f8811dfe290>, degrees=array([ 2,  1,  1,  1,  2,  1,  1,  1,  1,  1,  1,  1, 10,  1,  7,  1,  1,\n",
       "         1,  1,  1,  2,  1,  1,  1,  1,  1,  1,  1,  1,  9])),\n",
       " functools.partial(<function Molloy_Reed at 0x7f8811dfe290>, degrees=array([1, 1, 1, 1, 1, 1, 1, 3, 3, 1, 1, 2, 1, 1, 1, 1, 5, 1, 1, 2, 1, 1,\n",
       "        1, 1, 1, 1, 1, 1, 1, 1])),\n",
       " functools.partial(<function Molloy_Reed at 0x7f8811dfe290>, degrees=array([1, 1, 2, 1, 2, 1, 2, 1, 1, 1, 1, 1, 1, 1, 1, 1, 1, 1, 1, 1, 1, 1,\n",
       "        1, 1, 8, 1, 1, 1, 1, 1]))]"
      ]
     },
     "execution_count": 7,
     "metadata": {},
     "output_type": "execute_result"
    }
   ],
   "source": [
    "def find_graphic_sequence(gamma):\n",
    "    while True:\n",
    "        degrees_sequence = sp.stats.zipf.rvs(gamma, size=n)\n",
    "        if pp.generators.is_graphic_Erdos_Gallai(degrees_sequence):\n",
    "            return degrees_sequence\n",
    "\n",
    "\n",
    "sfns = list(\n",
    "    partial(pp.generators.Molloy_Reed, degrees=degree_seq)\n",
    "    for gamma in tqdm(np.linspace(2.1, 2.7, 10))\n",
    "    if (degree_seq := find_graphic_sequence(gamma)) is not None\n",
    ")\n",
    "sfns"
   ]
  },
  {
   "cell_type": "code",
   "execution_count": 8,
   "metadata": {},
   "outputs": [],
   "source": [
    "def generator(ensemble, samples=10):\n",
    "    differences = (\n",
    "        network.mean_neighbor_degree() - network.mean_degree()\n",
    "        for _ in range(samples)\n",
    "        if (network := ensemble()) is not None\n",
    "    )\n",
    "    return np.mean(list(differences))"
   ]
  },
  {
   "cell_type": "markdown",
   "metadata": {},
   "source": [
    "All generated microstates are heterogenuous."
   ]
  },
  {
   "cell_type": "code",
   "execution_count": 9,
   "metadata": {},
   "outputs": [
    {
     "data": {
      "text/plain": [
       "40"
      ]
     },
     "execution_count": 9,
     "metadata": {},
     "output_type": "execute_result"
    }
   ],
   "source": [
    "all_models = gnps + gnms + wattz_strogatzs + sfns\n",
    "len(all_models)"
   ]
  },
  {
   "cell_type": "markdown",
   "metadata": {},
   "source": [
    "Now we will run generation of models on all cpus with multiprocessing."
   ]
  },
  {
   "cell_type": "code",
   "execution_count": 10,
   "metadata": {},
   "outputs": [
    {
     "name": "stderr",
     "output_type": "stream",
     "text": [
      "100%|██████████| 40/40 [00:01<00:00, 32.01it/s]\n"
     ]
    }
   ],
   "source": [
    "with Pool() as pool:\n",
    "    results = np.array(list(tqdm(pool.imap(generator, all_models), total=len(all_models))))"
   ]
  },
  {
   "cell_type": "code",
   "execution_count": 11,
   "metadata": {},
   "outputs": [
    {
     "data": {
      "text/plain": [
       "False"
      ]
     },
     "execution_count": 11,
     "metadata": {},
     "output_type": "execute_result"
    }
   ],
   "source": [
    "np.any(results == 0)"
   ]
  },
  {
   "cell_type": "markdown",
   "metadata": {},
   "source": [
    "So no of the difference is 0, so mean neighbour degree in theese networks is bigger than mean degree. But now we will try regular networks with different degrees. They are homogenious."
   ]
  },
  {
   "cell_type": "code",
   "execution_count": 12,
   "metadata": {},
   "outputs": [
    {
     "data": {
      "text/plain": [
       "[functools.partial(<function Molloy_Reed at 0x7f8811dfe290>, degrees=[2, 2, 2, 2, 2, 2, 2, 2, 2, 2, 2, 2, 2, 2, 2, 2, 2, 2, 2, 2, 2, 2, 2, 2, 2, 2, 2, 2, 2, 2]),\n",
       " functools.partial(<function Molloy_Reed at 0x7f8811dfe290>, degrees=[3, 3, 3, 3, 3, 3, 3, 3, 3, 3, 3, 3, 3, 3, 3, 3, 3, 3, 3, 3, 3, 3, 3, 3, 3, 3, 3, 3, 3, 3]),\n",
       " functools.partial(<function Molloy_Reed at 0x7f8811dfe290>, degrees=[4, 4, 4, 4, 4, 4, 4, 4, 4, 4, 4, 4, 4, 4, 4, 4, 4, 4, 4, 4, 4, 4, 4, 4, 4, 4, 4, 4, 4, 4]),\n",
       " functools.partial(<function Molloy_Reed at 0x7f8811dfe290>, degrees=[5, 5, 5, 5, 5, 5, 5, 5, 5, 5, 5, 5, 5, 5, 5, 5, 5, 5, 5, 5, 5, 5, 5, 5, 5, 5, 5, 5, 5, 5]),\n",
       " functools.partial(<function Molloy_Reed at 0x7f8811dfe290>, degrees=[6, 6, 6, 6, 6, 6, 6, 6, 6, 6, 6, 6, 6, 6, 6, 6, 6, 6, 6, 6, 6, 6, 6, 6, 6, 6, 6, 6, 6, 6]),\n",
       " functools.partial(<function Molloy_Reed at 0x7f8811dfe290>, degrees=[7, 7, 7, 7, 7, 7, 7, 7, 7, 7, 7, 7, 7, 7, 7, 7, 7, 7, 7, 7, 7, 7, 7, 7, 7, 7, 7, 7, 7, 7]),\n",
       " functools.partial(<function Molloy_Reed at 0x7f8811dfe290>, degrees=[8, 8, 8, 8, 8, 8, 8, 8, 8, 8, 8, 8, 8, 8, 8, 8, 8, 8, 8, 8, 8, 8, 8, 8, 8, 8, 8, 8, 8, 8]),\n",
       " functools.partial(<function Molloy_Reed at 0x7f8811dfe290>, degrees=[9, 9, 9, 9, 9, 9, 9, 9, 9, 9, 9, 9, 9, 9, 9, 9, 9, 9, 9, 9, 9, 9, 9, 9, 9, 9, 9, 9, 9, 9]),\n",
       " functools.partial(<function Molloy_Reed at 0x7f8811dfe290>, degrees=[10, 10, 10, 10, 10, 10, 10, 10, 10, 10, 10, 10, 10, 10, 10, 10, 10, 10, 10, 10, 10, 10, 10, 10, 10, 10, 10, 10, 10, 10]),\n",
       " functools.partial(<function Molloy_Reed at 0x7f8811dfe290>, degrees=[11, 11, 11, 11, 11, 11, 11, 11, 11, 11, 11, 11, 11, 11, 11, 11, 11, 11, 11, 11, 11, 11, 11, 11, 11, 11, 11, 11, 11, 11])]"
      ]
     },
     "execution_count": 12,
     "metadata": {},
     "output_type": "execute_result"
    }
   ],
   "source": [
    "rns = list(\n",
    "    partial(pp.generators.Molloy_Reed, degrees=degree_seq)\n",
    "    for i in range(2, 12)\n",
    "    if (degree_seq := [i] * n) is not None\n",
    ")\n",
    "rns"
   ]
  },
  {
   "cell_type": "code",
   "execution_count": 13,
   "metadata": {},
   "outputs": [
    {
     "name": "stderr",
     "output_type": "stream",
     "text": [
      "100%|██████████| 10/10 [00:00<00:00, 28.60it/s]\n"
     ]
    },
    {
     "data": {
      "text/plain": [
       "array([0., 0., 0., 0., 0., 0., 0., 0., 0., 0.])"
      ]
     },
     "execution_count": 13,
     "metadata": {},
     "output_type": "execute_result"
    }
   ],
   "source": [
    "with Pool() as pool:\n",
    "    homo_results = np.array(list(tqdm(pool.imap(generator, rns), total=len(rns))))\n",
    "\n",
    "homo_results"
   ]
  },
  {
   "cell_type": "markdown",
   "metadata": {},
   "source": [
    "As far as you can judge there is no Friendship Paradox for homogenious networks."
   ]
  },
  {
   "cell_type": "markdown",
   "metadata": {},
   "source": [
    "### Real networks\n",
    "We will take Karate Club, Dolphins and Moreno real networks."
   ]
  },
  {
   "cell_type": "code",
   "execution_count": 14,
   "metadata": {},
   "outputs": [
    {
     "name": "stderr",
     "output_type": "stream",
     "text": [
      "[11-27 10:22:54: WARNING] KONECT data contains invalid timeiso: 1994/2001\n"
     ]
    },
    {
     "data": {
      "text/plain": [
       "[<pathpy.models.network.Network object at 0x7f8811eb6740>,\n",
       " <pathpy.models.network.Network object at 0x7f88bcdea470>,\n",
       " <pathpy.models.network.Network object at 0x7f88bc77e890>]"
      ]
     },
     "execution_count": 14,
     "metadata": {},
     "output_type": "execute_result"
    }
   ],
   "source": [
    "real_networks = [\n",
    "    pp.io.konect.read_konect_name(\"moreno_train\"),\n",
    "    pp.io.konect.read_konect_name(\"ucidata-zachary\"),\n",
    "    pp.io.konect.read_konect_name(\"dolphins\")\n",
    "]\n",
    "real_networks"
   ]
  },
  {
   "cell_type": "code",
   "execution_count": 15,
   "metadata": {},
   "outputs": [
    {
     "data": {
      "text/plain": [
       "[5.0029578189300405, 3.1809954751131224, 1.6759991884763643]"
      ]
     },
     "execution_count": 15,
     "metadata": {},
     "output_type": "execute_result"
    }
   ],
   "source": [
    "differncies = [\n",
    "    n.mean_neighbor_degree() - n.mean_degree()\n",
    "    for n in real_networks\n",
    "]\n",
    "differncies"
   ]
  },
  {
   "cell_type": "markdown",
   "metadata": {},
   "source": [
    "As far as you can judge real networks have even bigger difference between mean neighbour degree and mean degree."
   ]
  }
 ],
 "metadata": {
  "kernelspec": {
   "display_name": "Python 3 (ipykernel)",
   "language": "python",
   "name": "python3"
  },
  "language_info": {
   "codemirror_mode": {
    "name": "ipython",
    "version": 3
   },
   "file_extension": ".py",
   "mimetype": "text/x-python",
   "name": "python",
   "nbconvert_exporter": "python",
   "pygments_lexer": "ipython3",
   "version": "3.10.8"
  }
 },
 "nbformat": 4,
 "nbformat_minor": 2
}
